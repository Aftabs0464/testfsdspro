{
 "cells": [
  {
   "cell_type": "code",
   "execution_count": 1,
   "id": "79485d28-9f7b-4775-bc47-da6ef5de7d1e",
   "metadata": {},
   "outputs": [],
   "source": [
    "x = 10\n",
    "y = 15\n",
    "x,y = y,x"
   ]
  },
  {
   "cell_type": "code",
   "execution_count": 2,
   "id": "f986e311-4c9f-4994-81f5-2d973fd781de",
   "metadata": {},
   "outputs": [
    {
     "data": {
      "text/plain": [
       "15"
      ]
     },
     "execution_count": 2,
     "metadata": {},
     "output_type": "execute_result"
    }
   ],
   "source": [
    "x"
   ]
  },
  {
   "cell_type": "code",
   "execution_count": 3,
   "id": "24fc57fc-f23f-4989-ad3c-ab36005297e6",
   "metadata": {},
   "outputs": [
    {
     "data": {
      "text/plain": [
       "10"
      ]
     },
     "execution_count": 3,
     "metadata": {},
     "output_type": "execute_result"
    }
   ],
   "source": [
    "y"
   ]
  },
  {
   "cell_type": "code",
   "execution_count": 5,
   "id": "2a02dc17-fa6a-4786-812c-f4dba4ba1f95",
   "metadata": {},
   "outputs": [
    {
     "name": "stdin",
     "output_type": "stream",
     "text": [
      " 10\n",
      " 20\n"
     ]
    },
    {
     "name": "stdout",
     "output_type": "stream",
     "text": [
      "area of rectangle= 200\n"
     ]
    }
   ],
   "source": [
    "#program to calculate area of rectangle\n",
    "L=int(input())\n",
    "W=int(input())\n",
    "A=L*W\n",
    "print(\"area of rectangle=\",A)"
   ]
  },
  {
   "cell_type": "code",
   "execution_count": 6,
   "id": "5fc586cb-e368-41ef-9864-20f2953a9584",
   "metadata": {},
   "outputs": [
    {
     "name": "stdin",
     "output_type": "stream",
     "text": [
      "enter temp in celsius 32\n"
     ]
    },
    {
     "name": "stdout",
     "output_type": "stream",
     "text": [
      "temp in fahrenheit is = 89.6\n"
     ]
    }
   ],
   "source": [
    "#temp conversion from celsius to fahrenheit\n",
    "c=int(input(\"enter temp in celsius\"))\n",
    "f=(1.8*c)+32\n",
    "print(\"temp in fahrenheit is =\",f)"
   ]
  },
  {
   "cell_type": "code",
   "execution_count": null,
   "id": "6ec07b36-0d68-443b-9d4e-53e92f8ab5fd",
   "metadata": {},
   "outputs": [],
   "source": [
    "#string based questions"
   ]
  },
  {
   "cell_type": "code",
   "execution_count": 8,
   "id": "e390debb-c269-4bc0-a2b9-3f195f3ab4ee",
   "metadata": {},
   "outputs": [
    {
     "name": "stdout",
     "output_type": "stream",
     "text": [
      "5\n"
     ]
    }
   ],
   "source": [
    "#take string as input and find length of string\n",
    "a=\"aftab\"\n",
    "print(len(a))"
   ]
  },
  {
   "cell_type": "code",
   "execution_count": 10,
   "id": "5416679c-7c11-4568-aa0a-15f1587875e1",
   "metadata": {},
   "outputs": [
    {
     "name": "stdin",
     "output_type": "stream",
     "text": [
      "Enter a sentence:  aftab\n"
     ]
    },
    {
     "name": "stdout",
     "output_type": "stream",
     "text": [
      "Number of vowels: 2\n"
     ]
    }
   ],
   "source": [
    "#take string and count no of vovels\n",
    "sentence = input(\"Enter a sentence: \")\n",
    "vowel_count = 0\n",
    "for char in sentence:\n",
    "    char_lower = char.lower()\n",
    "    if char_lower in \"aeiou\":\n",
    "        vowel_count += 1\n",
    "print(\"Number of vowels:\", vowel_count)"
   ]
  },
  {
   "cell_type": "code",
   "execution_count": 11,
   "id": "114b1e92-1f83-4947-913a-8291c7c9d1dd",
   "metadata": {},
   "outputs": [
    {
     "name": "stdin",
     "output_type": "stream",
     "text": [
      "Enter a string:  aftabs\n"
     ]
    },
    {
     "name": "stdout",
     "output_type": "stream",
     "text": [
      "Reversed string: sbatfa\n"
     ]
    }
   ],
   "source": [
    "'''Given a string, reverse the order of characters using string slicing and print\n",
    "the reversed string.'''\n",
    "string = input(\"Enter a string: \")\n",
    "reversed_string = string[::-1]\n",
    "print(\"Reversed string:\", reversed_string)"
   ]
  },
  {
   "cell_type": "code",
   "execution_count": 12,
   "id": "3403229e-0409-45fd-b0a0-562346138377",
   "metadata": {},
   "outputs": [
    {
     "name": "stdin",
     "output_type": "stream",
     "text": [
      "Enter a string:  aftabs\n"
     ]
    },
    {
     "name": "stdout",
     "output_type": "stream",
     "text": [
      "The input string is not a palindrome.\n"
     ]
    }
   ],
   "source": [
    "'''Write a program that takes a string as input and checks if it is a palindrome\n",
    "(reads the same forwards and backwards).'''\n",
    "input_string = input(\"Enter a string: \")\n",
    "updated_string = input_string.replace(\" \", \"\").lower()\n",
    "reversed_string = updated_string[::-1]\n",
    "if updated_string == reversed_string:\n",
    "    print(\"The input string is a palindrome.\")\n",
    "else:\n",
    "    print(\"The input string is not a palindrome.\")"
   ]
  },
  {
   "cell_type": "code",
   "execution_count": 13,
   "id": "a487d26f-384b-45f7-bdad-95172f69bac5",
   "metadata": {},
   "outputs": [
    {
     "name": "stdin",
     "output_type": "stream",
     "text": [
      "Enter a string:  aftabs\n"
     ]
    },
    {
     "name": "stdout",
     "output_type": "stream",
     "text": [
      "Modified string without spaces: aftabs\n"
     ]
    }
   ],
   "source": [
    "'''Create a program that takes a string as input and removes all the spaces from\n",
    "it. Print the modified string without spaces.'''\n",
    "input_string = input(\"Enter a string: \")\n",
    "modified_string = \"\"\n",
    "for char in input_string:\n",
    "    if char != \" \":\n",
    "        modified_string += char\n",
    "print(\"Modified string without spaces:\", modified_string)"
   ]
  }
 ],
 "metadata": {
  "kernelspec": {
   "display_name": "Python 3 (ipykernel)",
   "language": "python",
   "name": "python3"
  },
  "language_info": {
   "codemirror_mode": {
    "name": "ipython",
    "version": 3
   },
   "file_extension": ".py",
   "mimetype": "text/x-python",
   "name": "python",
   "nbconvert_exporter": "python",
   "pygments_lexer": "ipython3",
   "version": "3.10.8"
  }
 },
 "nbformat": 4,
 "nbformat_minor": 5
}
